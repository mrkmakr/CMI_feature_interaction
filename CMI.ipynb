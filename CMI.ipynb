{
 "cells": [
  {
   "cell_type": "code",
   "execution_count": 1,
   "metadata": {},
   "outputs": [
    {
     "name": "stderr",
     "output_type": "stream",
     "text": [
      "/Users/akmuraka/.pyenv/versions/anaconda3-5.3.1/lib/python3.7/site-packages/lightgbm/__init__.py:46: UserWarning: Starting from version 2.2.1, the library file in distribution wheels for macOS is built by the Apple Clang (Xcode_9.4.1) compiler.\n",
      "This means that in case of installing LightGBM from PyPI via the ``pip install lightgbm`` command, you don't need to install the gcc compiler anymore.\n",
      "Instead of that, you need to install the OpenMP library, which is required for running LightGBM on the system with the Apple Clang compiler.\n",
      "You can install the OpenMP library by the following command: ``brew install libomp``.\n",
      "  \"You can install the OpenMP library by the following command: ``brew install libomp``.\", UserWarning)\n"
     ]
    }
   ],
   "source": [
    "import numpy as np\n",
    "import pandas as pd\n",
    "import matplotlib.pyplot as plt\n",
    "%matplotlib inline\n",
    "from tqdm import tqdm_notebook as tqdm\n",
    "\n",
    "from lightgbm import LGBMClassifier"
   ]
  },
  {
   "cell_type": "markdown",
   "metadata": {},
   "source": [
    "## mutual information"
   ]
  },
  {
   "cell_type": "code",
   "execution_count": 2,
   "metadata": {},
   "outputs": [],
   "source": [
    "def get_mi(a, b, c = None):\n",
    "    if a.ndim == 1:\n",
    "        a = a[:, None]\n",
    "    if b.ndim == 1:\n",
    "        b = b[:, None]\n",
    "        \n",
    "    if c is None:\n",
    "        c = np.ones([len(a), 1]) * 0.5\n",
    "    if c.ndim == 1:\n",
    "        c = c[:, None]\n",
    "        \n",
    "    \"\"\"\n",
    "    a : feature : (n_data, a_dim)\n",
    "    b : target : (n_data, b_dim)\n",
    "    c : conditional feature : (n_data, c_dim)\n",
    "    \"\"\"\n",
    "\n",
    "    a = a.reshape(a.shape[0], a.shape[1], 1, 1, 1)\n",
    "    b = b.reshape(b.shape[0], 1, b.shape[1], 1, 1)\n",
    "    c = c.reshape(c.shape[0], c.shape[1], 1)\n",
    "    # a.shape = (n_data, a_dim, b_dim, a_onehot, b_onehot)\n",
    "    # b.shape = (n_data, a_dim, b_dim, a_onehot, b_onehot)\n",
    "    # c.shape = (n_data, c_dim, c_onehot)\n",
    "\n",
    "    ## bool -> onehot\n",
    "    a = np.concatenate([1 - a, a], axis = 3)\n",
    "    b = np.concatenate([1 - b, b], axis = 4)\n",
    "    c = np.concatenate([1 - c, c], axis = 2)\n",
    "\n",
    "    ## marginal probability\n",
    "    abc = np.tensordot(a * b, c, axes = [0,0])\n",
    "    pabc = abc / np.sum(np.sum(abc, axis = 2, keepdims = True), axis = 3, keepdims = True) + 1e-16\n",
    "    pa = np.sum(pabc, axis = 3, keepdims=True)\n",
    "    pb = np.sum(pabc, axis = 2, keepdims=True)\n",
    "\n",
    "    ## mutual information\n",
    "    mi = np.sum((np.sum(np.sum(pabc * np.log(pabc / pa / pb), axis = 2), axis = 2) *  np.mean(c, axis = 0)[None, None, :]), axis = -1)\n",
    "    \n",
    "    \"\"\"\n",
    "    mi.shape = (a_dim, b_dim, c_dim)\n",
    "    \"\"\"\n",
    "    return mi"
   ]
  },
  {
   "cell_type": "code",
   "execution_count": 3,
   "metadata": {},
   "outputs": [],
   "source": [
    "n_data = 10000\n",
    "x = np.random.binomial(1, 0.5, size = n_data)\n",
    "z = np.random.binomial(1, 0.5, size = n_data)\n",
    "y = x.copy()\n",
    "y[z == 1] = 1 - y[z == 1] ## xだけ見るとyと関係はないが，xとzを見るとyはわかる"
   ]
  },
  {
   "cell_type": "code",
   "execution_count": 4,
   "metadata": {},
   "outputs": [
    {
     "data": {
      "text/plain": [
       "array([[[2.74429107e-05]]])"
      ]
     },
     "execution_count": 4,
     "metadata": {},
     "output_type": "execute_result"
    }
   ],
   "source": [
    "## xとyには一見関係がない -> xはy予測の特徴量としては微妙そうに見える -> mutual informationは小さい\n",
    "get_mi(x, y)"
   ]
  },
  {
   "cell_type": "code",
   "execution_count": 5,
   "metadata": {},
   "outputs": [
    {
     "data": {
      "text/plain": [
       "array([[[0.6931387]]])"
      ]
     },
     "execution_count": 5,
     "metadata": {},
     "output_type": "execute_result"
    }
   ],
   "source": [
    "## zで条件付けるとxとyには関係がある -> xとzのinteractionは特徴量として効きそう -> conditional mutual informationは大きい\n",
    "get_mi(x, y, z)"
   ]
  },
  {
   "cell_type": "code",
   "execution_count": null,
   "metadata": {},
   "outputs": [],
   "source": []
  },
  {
   "cell_type": "markdown",
   "metadata": {},
   "source": [
    "## シミュレーション"
   ]
  },
  {
   "cell_type": "code",
   "execution_count": 6,
   "metadata": {},
   "outputs": [],
   "source": [
    "## interactionが重要になる二値分類データを作る\n",
    "\n",
    "from sklearn.model_selection import train_test_split\n",
    "from sklearn.linear_model import LogisticRegression\n",
    "from sklearn.metrics import roc_auc_score\n",
    "\n",
    "def sigmoid(x):\n",
    "    return 1 / (1 + np.exp(-x))\n",
    "\n",
    "np.random.seed(42 + 1)\n",
    "\n",
    "## データ設定\n",
    "n_dim = 50\n",
    "n_data = 10000\n",
    "int_cols = [[1, 2, 3, 4, 5], [6, 7, 8, 9], [10, 11, 12], [13, 14]]\n",
    "\n",
    "## データ生成\n",
    "x = np.random.binomial(1, 0.5, [n_data, n_dim])\n",
    "fs = []\n",
    "for k in range(len(int_cols)):\n",
    "    int_col = int_cols[k]\n",
    "    f = 1\n",
    "    for i in range(len(int_col)):\n",
    "        f *= (x[:, int_col[i]] + i / 5) ## binaryになんか足してかけていく\n",
    "    \n",
    "    for i in range(1, len(int_col)):\n",
    "        reverse = x[:, int_col[i]]\n",
    "        f[reverse == 1] = -f[reverse == 1] ## binaryが0か1かで正負が入れ替わる interactionを作る\n",
    "    fs.append(f)\n",
    "    \n",
    "f = np.vstack(fs).T\n",
    "w = np.random.randn(f.shape[1])\n",
    "logit = np.sum(f * w, axis = 1)\n",
    "p = sigmoid(logit)\n",
    "y = np.random.binomial(1, p)\n",
    "\n",
    "x_train, x_test, y_train, y_test = train_test_split(x, y, test_size = 0.2, shuffle = True, random_state = 42)"
   ]
  },
  {
   "cell_type": "code",
   "execution_count": 7,
   "metadata": {},
   "outputs": [],
   "source": [
    "def eval_linear(x_train, x_test):\n",
    "    model = LogisticRegression(solver = \"lbfgs\")\n",
    "    model.fit(x_train, y_train)\n",
    "    p = model.predict_proba(x_test)[:,1]\n",
    "    print(\"auc : \", roc_auc_score(y_test, p))"
   ]
  },
  {
   "cell_type": "markdown",
   "metadata": {},
   "source": [
    "### 生の特徴量をそのままlinearに"
   ]
  },
  {
   "cell_type": "code",
   "execution_count": 8,
   "metadata": {},
   "outputs": [
    {
     "name": "stdout",
     "output_type": "stream",
     "text": [
      "auc :  0.5629372203365415\n"
     ]
    }
   ],
   "source": [
    "# raw\n",
    "eval_linear(x_train, x_test)"
   ]
  },
  {
   "cell_type": "code",
   "execution_count": null,
   "metadata": {},
   "outputs": [],
   "source": []
  },
  {
   "cell_type": "markdown",
   "metadata": {},
   "source": [
    "## CMIを元にinteraction特徴量を作る"
   ]
  },
  {
   "cell_type": "code",
   "execution_count": 9,
   "metadata": {},
   "outputs": [],
   "source": [
    "def get_interaction_by_cmi_top(x1_train, x2_train, x1_test, x2_test, y_train, n = 10):\n",
    "#     x1_train, x1_test, x2_train, x2_test, y_train, y_test = train_test_split(x1, x2, y, test_size = 0.2, shuffle = True, random_state = 42)\n",
    "    \n",
    "    mi = get_mi(x1_train, y_train)\n",
    "    cmi = get_mi(x1_train, y_train, x2_train)\n",
    "    \n",
    "#     mi = get_mi(x1_train[:10000], y_train[:10000])\n",
    "#     cmi = get_mi(x1_train[:10000], y_train[:10000], x2_train[:10000])\n",
    "    \n",
    "    score = cmi - mi\n",
    "    score = score[:,0,:] ## targetは１次元と仮定\n",
    "\n",
    "    idx = np.argsort(score.flatten())[::-1][:n]\n",
    "    idx1 = idx // score.shape[1]\n",
    "    idx2 = idx % score.shape[1]\n",
    "\n",
    "    x1 = np.vstack([x1_train, x1_test])\n",
    "    x2 = np.vstack([x2_train, x2_test])\n",
    "    \n",
    "    f = []\n",
    "    for j in range(n):\n",
    "        interection = x1[:,idx1[j]].astype(str).astype(\"object\") + \"_\" + x2[:,idx2[j]].astype(str).astype(\"object\")\n",
    "        interection_oh = pd.get_dummies(interection).values\n",
    "        f.append(interection_oh)\n",
    "    f = np.hstack(f)\n",
    "    return f[:len(x1_train)], f[len(x1_train):], score\n"
   ]
  },
  {
   "cell_type": "code",
   "execution_count": 10,
   "metadata": {},
   "outputs": [
    {
     "name": "stdout",
     "output_type": "stream",
     "text": [
      "auc :  0.6076163495021702\n"
     ]
    }
   ],
   "source": [
    "## インタラクション（CMIを用いた選択，２次まで）\n",
    "f1_train, f1_test, score = get_interaction_by_cmi_top(x_train, x_train, x_test, x_test, y_train, n = 50)\n",
    "f_train = np.hstack([f1_train, x_train])\n",
    "f_test = np.hstack([f1_test, x_test])\n",
    "\n",
    "eval_linear(f_train, f_test)"
   ]
  },
  {
   "cell_type": "code",
   "execution_count": 11,
   "metadata": {},
   "outputs": [
    {
     "name": "stdout",
     "output_type": "stream",
     "text": [
      "auc :  0.654217172399236\n"
     ]
    }
   ],
   "source": [
    "## インタラクション（CMIを用いた選択，３次まで）\n",
    "f2_train, f2_test, score = get_interaction_by_cmi_top(x_train, f1_train, x_test, f1_test, y_train, n = 40)\n",
    "f_train = np.hstack([f1_train, f2_train, x_train])\n",
    "f_test = np.hstack([f1_test, f2_test, x_test])\n",
    "eval_linear(f_train, f_test)"
   ]
  },
  {
   "cell_type": "code",
   "execution_count": 12,
   "metadata": {},
   "outputs": [
    {
     "name": "stdout",
     "output_type": "stream",
     "text": [
      "auc :  0.6846451569016415\n"
     ]
    }
   ],
   "source": [
    "## インタラクション（CMIを用いた選択，４次まで）\n",
    "f3_train, f3_test, score = get_interaction_by_cmi_top(x_train, f2_train, x_test, f2_test, y_train, n = 30)\n",
    "f_train = np.hstack([f1_train, f2_train, f3_train, x_train])\n",
    "f_test = np.hstack([f1_test, f2_test, f3_test, x_test])\n",
    "eval_linear(f_train, f_test)"
   ]
  },
  {
   "cell_type": "code",
   "execution_count": 13,
   "metadata": {},
   "outputs": [
    {
     "name": "stdout",
     "output_type": "stream",
     "text": [
      "auc :  0.684660162318597\n"
     ]
    }
   ],
   "source": [
    "## インタラクション（CMIを用いた選択，５次まで）\n",
    "f4_train, f4_test, score = get_interaction_by_cmi_top(x_train, f3_train, x_test, f3_test, y_train, n = 20)\n",
    "f_train = np.hstack([f1_train, f2_train, f3_train, f4_train, x_train])\n",
    "f_test = np.hstack([f1_test, f2_test, f3_test, f4_test, x_test])\n",
    "eval_linear(f_train, f_test)"
   ]
  },
  {
   "cell_type": "code",
   "execution_count": 14,
   "metadata": {},
   "outputs": [],
   "source": [
    "fs_train = [x_train, f1_train, f2_train, f3_train, f4_train]\n",
    "fs_test = [x_test, f1_test, f2_test, f3_test, f4_test]"
   ]
  },
  {
   "cell_type": "markdown",
   "metadata": {},
   "source": [
    "## 上までで作った特徴量をlgbに食わせる"
   ]
  },
  {
   "cell_type": "code",
   "execution_count": 15,
   "metadata": {},
   "outputs": [
    {
     "name": "stdout",
     "output_type": "stream",
     "text": [
      "auc :  0.6603683929898693\n",
      "auc :  0.7026486561648755\n",
      "auc :  0.7274636143647857\n",
      "auc :  0.7260881178105296\n",
      "auc :  0.7260881178105296\n"
     ]
    }
   ],
   "source": [
    "##### lgbm CMI 1 ~ 5次まで\n",
    "model = LGBMClassifier()\n",
    "for i in range(1, 6):\n",
    "    f_train = np.hstack(fs_train[:i])\n",
    "    f_test = np.hstack(fs_test[:i])\n",
    "    model.fit(f_train, y_train)\n",
    "    p = model.predict_proba(f_test)[:,1]\n",
    "    print(\"auc : \", roc_auc_score(y_test, p))"
   ]
  },
  {
   "cell_type": "code",
   "execution_count": null,
   "metadata": {},
   "outputs": [],
   "source": []
  },
  {
   "cell_type": "markdown",
   "metadata": {},
   "source": [
    "## CatBoost版"
   ]
  },
  {
   "cell_type": "code",
   "execution_count": 16,
   "metadata": {},
   "outputs": [],
   "source": [
    "from catboost import CatBoostClassifier"
   ]
  },
  {
   "cell_type": "code",
   "execution_count": 17,
   "metadata": {},
   "outputs": [
    {
     "name": "stdout",
     "output_type": "stream",
     "text": [
      "auc :  0.7139177242984718\n",
      "auc :  0.727681693091206\n",
      "auc :  0.7356665756338039\n",
      "auc :  0.7397850624075291\n",
      "auc :  0.7377023105341027\n"
     ]
    }
   ],
   "source": [
    "##### catboost CMI 1 ~ 5次まで\n",
    "model = CatBoostClassifier(verbose = False)\n",
    "for i in range(1, 6):\n",
    "    f_train = np.hstack(fs_train[:i])\n",
    "    f_test = np.hstack(fs_test[:i])\n",
    "    model.fit(f_train, y_train)\n",
    "    p = model.predict_proba(f_test)[:,1]\n",
    "    print(\"auc : \", roc_auc_score(y_test, p))"
   ]
  },
  {
   "cell_type": "code",
   "execution_count": 18,
   "metadata": {},
   "outputs": [
    {
     "name": "stdout",
     "output_type": "stream",
     "text": [
      "auc :  0.7146199778119902\n",
      "auc :  0.7304907071452794\n",
      "auc :  0.7357826175249265\n",
      "auc :  0.7377143148676673\n",
      "auc :  0.7369710465478037\n"
     ]
    }
   ],
   "source": [
    "##### catboost CMI 1 ~ 5次まで 全部categorical扱い\n",
    "for i in range(1, 6):\n",
    "    f_train = np.hstack(fs_train[:i])\n",
    "    f_test = np.hstack(fs_test[:i])\n",
    "    model = CatBoostClassifier(verbose = False, cat_features=list(range(f_train.shape[1])))\n",
    "    model.fit(f_train, y_train)\n",
    "    p = model.predict_proba(f_test)[:,1]\n",
    "    print(\"auc : \", roc_auc_score(y_test, p))"
   ]
  },
  {
   "cell_type": "code",
   "execution_count": null,
   "metadata": {},
   "outputs": [],
   "source": []
  },
  {
   "cell_type": "markdown",
   "metadata": {},
   "source": [
    "## 結論\n",
    "\n",
    "### cat with interaction > lgb with interaction > cat with raw >\n",
    "### linear with interaction > lgb wth raw > linear with raw"
   ]
  },
  {
   "cell_type": "code",
   "execution_count": null,
   "metadata": {},
   "outputs": [],
   "source": []
  }
 ],
 "metadata": {
  "kernelspec": {
   "display_name": "Python 3",
   "language": "python",
   "name": "python3"
  },
  "language_info": {
   "codemirror_mode": {
    "name": "ipython",
    "version": 3
   },
   "file_extension": ".py",
   "mimetype": "text/x-python",
   "name": "python",
   "nbconvert_exporter": "python",
   "pygments_lexer": "ipython3",
   "version": "3.7.2"
  }
 },
 "nbformat": 4,
 "nbformat_minor": 2
}
